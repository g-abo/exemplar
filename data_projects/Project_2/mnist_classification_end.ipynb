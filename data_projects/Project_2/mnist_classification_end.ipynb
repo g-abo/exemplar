{
 "cells": [
  {
   "cell_type": "markdown",
   "metadata": {},
   "source": [
    "# MNIST Classification\n",
    "In this exercise we will explore the performance of several classification techniques on classifying handwritten digits. The canonical dataset used is the MNIST dataset (https://en.wikipedia.org/wiki/MNIST_database). We will evaluate classifier performance through train/validation/test sets provided to you. "
   ]
  },
  {
   "cell_type": "markdown",
   "metadata": {},
   "source": [
    "This exercise will use TensorFlow (https://en.wikipedia.org/wiki/TensorFlow). <b>Ignore all warnings produced by the tensorflow library (or others that you are required to use in this project, e.g. scikit-learn).</b>"
   ]
  },
  {
   "cell_type": "code",
   "execution_count": 1,
   "metadata": {},
   "outputs": [],
   "source": [
    "# imports\n",
    "from utils import get_data_extract\n",
    "from matplotlib import pyplot as plt\n",
    "import numpy as np\n",
    "import tensorflow as tf\n",
    "import time\n",
    "from sklearn.metrics import accuracy_score\n",
    "\n",
    "# For reproducibility\n",
    "tf.random.set_seed(0)\n",
    "np.random.seed(0)\n"
   ]
  },
  {
   "cell_type": "markdown",
   "metadata": {},
   "source": [
    "Run the following line to retrieve the data and generate the training, validation, and test sets using the function <b>get_data_extract()</b> provided in <b>utils.py</b>. <br>\n",
    "<b>We want you to use the training, validation and test sets provided by this function, exclusively.</b>"
   ]
  },
  {
   "cell_type": "code",
   "execution_count": 2,
   "metadata": {},
   "outputs": [
    {
     "name": "stdout",
     "output_type": "stream",
     "text": [
      "hello\n"
     ]
    }
   ],
   "source": [
    "X_train, Y_train, X_val, Y_val, X_test, Y_test = get_data_extract()\n",
    "print('hello')"
   ]
  },
  {
   "cell_type": "markdown",
   "metadata": {},
   "source": [
    "# 0. Understanding the data"
   ]
  },
  {
   "cell_type": "markdown",
   "metadata": {},
   "source": [
    "The resolution of the images are all $28\\times 28$. The corresponding feature vector of an image is a $28^2=784$ length 1D array representing the row-major flattened version of the image (i.e. the rows are concatenated top-down). All values in the array are in the range $[0,1]$ representing the grayscale value at that point. Note to get the pixel value, you would have to multiply these values by $255$.  "
   ]
  },
  {
   "cell_type": "markdown",
   "metadata": {},
   "source": [
    "a) What are the dimensions of $X_{train}, X_{val}, X_{test}$?"
   ]
  },
  {
   "cell_type": "code",
   "execution_count": 8,
   "metadata": {},
   "outputs": [
    {
     "name": "stdout",
     "output_type": "stream",
     "text": [
      "X_train dimensions: 16500 samples by 784 features\n",
      "X_val dimensions: 1500 samples by 784 features\n",
      " X_test dimensions: 3000 samples by 784 features\n"
     ]
    }
   ],
   "source": [
    "# (1 pt) Calculate dimensions here\n",
    "train_samples, train_features = X_train.shape\n",
    "val_samples, val_features = X_val.shape\n",
    "test_samples, test_features = X_test.shape\n",
    "\n",
    "print(\"X_train dimensions:\", train_samples, \"samples by\", train_features, \"features\")\n",
    "\n",
    "print(\"X_val dimensions:\", val_samples, \"samples by\", val_features, \"features\")\n",
    "\n",
    "print(\" X_test dimensions:\", test_samples, \"samples by\", test_features, \"features\")\n"
   ]
  },
  {
   "cell_type": "markdown",
   "metadata": {},
   "source": [
    "b) Display the first two images of $X_{train}$. (You may find the <b>np.reshape()</b> and <b>plt.imshow()</b> methods useful.)"
   ]
  },
  {
   "cell_type": "code",
   "execution_count": 4,
   "metadata": {},
   "outputs": [
    {
     "data": {
      "image/png": "[encoded data removed]",
      "text/plain": [
       "<Figure size 800x300 with 2 Axes>"
      ]
     },
     "metadata": {},
     "output_type": "display_data"
    }
   ],
   "source": [
    "# (1 pt) Display first two training images here\n",
    "plt.figure(figsize=(8, 3))\n",
    "\n",
    "for i in range(2):\n",
    "    image = np.reshape(X_train[i], (28, 28)) \n",
    "    plt.subplot(1, 2, i+ 1)\n",
    "    plt.imshow(image, cmap='gray')\n",
    "    plt.title('Image {}'.format(i + 1))\n",
    "\n",
    "plt.show()"
   ]
  },
  {
   "cell_type": "markdown",
   "metadata": {},
   "source": [
    "c) Print out the first two labels in $Y_{train}$. "
   ]
  },
  {
   "cell_type": "code",
   "execution_count": 9,
   "metadata": {},
   "outputs": [
    {
     "name": "stdout",
     "output_type": "stream",
     "text": [
      "First Y_train label: 6\n",
      "Second Y_train label: 3\n"
     ]
    }
   ],
   "source": [
    "# (1 pt) Print first two training labels here\n",
    "\n",
    "print(\"First Y_train label:\", Y_train[0])\n",
    "\n",
    "print(\"Second Y_train label:\", Y_train[1])"
   ]
  },
  {
   "cell_type": "markdown",
   "metadata": {},
   "source": [
    "We will now use the MNIST data extracts above to compare various classification algorithms. <b>ONLY use the data extracts provided above. </b> We are primarily interested in two metrics: \n",
    "1. the test set accuracy (0.0 being all incorrect and 1.0 being all correct)\n",
    "2. time it takes to train the model and produce classifications for the <b>test set</b> <br>\n",
    "\n",
    "$X_{train}, Y_{train}$ will be used for training while $X_{test}, Y_{test}$ will be used for evaluating performance. Some models will use $X_{val}, Y_{val}$ for parameter tuning. "
   ]
  },
  {
   "cell_type": "markdown",
   "metadata": {},
   "source": [
    "# 1. Logistic Regression"
   ]
  },
  {
   "cell_type": "markdown",
   "metadata": {},
   "source": [
    "Repeat the exercise above for sklearn's <b>LogisticsRegression()</b> algorithm. You might find the following arguments helpful when initializing the model: <b>penalty='l1', C=1.0, tol=0.01, solver='liblinear'</b>. These parameters will help speed up the algorithm significantly. Produce the training time, test set prediction accuracy score and time taken to produce predictions. Format your answers."
   ]
  },
  {
   "cell_type": "code",
   "execution_count": 10,
   "metadata": {},
   "outputs": [
    {
     "name": "stdout",
     "output_type": "stream",
     "text": [
      "Training time: 1.2610 seconds\n",
      "test prediction time: 0.0050 seconds\n",
      "Test  accuracy: 0.9133\n"
     ]
    }
   ],
   "source": [
    "from sklearn.linear_model import LogisticRegression\n",
    "\n",
    "# (5 pts) Train Logistic Regression and report time\n",
    "start = time.time() \n",
    "logistic = LogisticRegression(penalty='l1', C=1.0, tol=0.01, solver='liblinear')\n",
    "logistic.fit(X_train, Y_train)\n",
    "end = time.time()  \n",
    "train_time = end-start\n",
    "\n",
    "# (5 pts) Test Logistic Regression and report accuracy, time\n",
    "start = time.time()  \n",
    "test_predictions = logistic.predict(X_test)\n",
    "end = time.time()  \n",
    "test_time = end -start \n",
    "\n",
    "\n",
    "print(\"Training time: {:.4f} seconds\".format(train_time))\n",
    "\n",
    "print(\"test prediction time: {:.4f} seconds\".format(test_time))\n",
    "\n",
    "accuracy = accuracy_score(Y_test, test_predictions) \n",
    "print(\"Test  accuracy: {:.4f}\".format(accuracy))\n",
    "\n"
   ]
  },
  {
   "cell_type": "markdown",
   "metadata": {},
   "source": [
    "<b>****** The folowing models take a long time to run so we suggest reading all parts of the exercise first before implementing code. *****</b>"
   ]
  },
  {
   "cell_type": "markdown",
   "metadata": {},
   "source": [
    "# 2. Logistic Regression with Polynomial Features"
   ]
  },
  {
   "cell_type": "markdown",
   "metadata": {},
   "source": [
    "We now add polynomial features to our logistic regression. For that purpose, extend $X_{train}$ with second moment information. Specifically, add the squared value of each pixel, and the empirical covariance matrix, where each column in each 28x28 image is treated as different measurements of the corresponding row (hint: you can look on each row of X_train as a 28x28 image and then use np.cov). Now, re-run the logistic regression procedure from the previous excercise. You might find the following arguments helpful when initializing the model: <b>penalty='l1', C=8.0, tol=0.01, solver='liblinear'</b>. These parameters will help speed up the algorithm significantly, and yield good performance. Produce the training time, test set prediction accuracy score and time taken to produce predictions. Format your answers."
   ]
  },
  {
   "cell_type": "code",
   "execution_count": 16,
   "metadata": {},
   "outputs": [
    {
     "name": "stdout",
     "output_type": "stream",
     "text": [
      "training time: 7.2456 seconds\n",
      "test time: 0.0050 seconds\n",
      "test accuracy: 0.9330\n",
      "\n",
      "Polynomial regression improves the test accuracy from 0.91 to 0.93. We use larger regularization coefficient of C= 8.0 \n",
      "to handle the higher dimensionality.By taking second moments were handle a larger feature space. Without the regularization the \n",
      "model likely will overfit the training set.\n"
     ]
    }
   ],
   "source": [
    "# (5 pts) Train Logistic Regression and report time\n",
    "# (5 pts) Test Logistic Regression and report accuracy, time\n",
    "from sklearn.preprocessing import PolynomialFeatures\n",
    "\n",
    "#second moment for train\n",
    "X_train_squared = X_train ** 2\n",
    "# match dimension\n",
    "X_train_squared_reshaped = X_train_squared.reshape(-1, 28, 28)\n",
    "# Covariance matrix for images\n",
    "covariance_train = np.array([np.cov(image) for image in X_train_squared_reshaped])\n",
    "# flatten matrix for X_train\n",
    "X_train_extend = np.hstack((X_train, X_train_squared, covariance_train.reshape(len(covariance_train), -1)))\n",
    "\n",
    "#similar extension for x_test\n",
    "X_test_squared = X_test ** 2\n",
    "X_test_squared_reshaped = X_test_squared.reshape(-1, 28, 28)\n",
    "covariance_test = np.array([np.cov(image) for image in X_test_squared_reshaped])\n",
    "X_test_extend = np.hstack((X_test, X_test_squared, covariance_test.reshape(len(covariance_test), -1)))\n",
    "\n",
    "# train extended features  logistic model\n",
    "start = time.time() \n",
    "logistic_extended = LogisticRegression(penalty='l1', C=8.0, tol=0.01, solver='liblinear')\n",
    "logistic_extended.fit(X_train_extend, Y_train)\n",
    "end = time.time()  \n",
    "\n",
    "train_time = end -start \n",
    "\n",
    "# test model\n",
    "start = time.time() \n",
    "test_predictions = logistic_extended.predict(X_test_extend)\n",
    "end = time.time() \n",
    "\n",
    "test_time_extended = end - start \n",
    "accuracy = accuracy_score(Y_test, test_predictions)  \n",
    "\n",
    "print(\"training time: {:.4f} seconds\".format(train_time))\n",
    "print(\"test time: {:.4f} seconds\".format(test_time))\n",
    "print(\"test accuracy: {:.4f}\".format(accuracy))\n",
    "\n",
    "print(\"\"\"\\nPolynomial regression improves the test accuracy from 0.91 to 0.93. We use larger regularization coefficient of C= 8.0 \n",
    "to handle the higher dimensionality.By taking second moments were handle a larger feature space. Without the regularization the \n",
    "model likely will overfit the training set.\"\"\")\n",
    "     \n"
   ]
  },
  {
   "cell_type": "markdown",
   "metadata": {},
   "source": [
    "Q (4 pts): Does polynomial features improve the performance of the logistic regression model? Why does it necessary to use larger regularization coefficient in this case?  "
   ]
  },
  {
   "cell_type": "markdown",
   "metadata": {},
   "source": [
    "# 3. k-Nearest Neighbors"
   ]
  },
  {
   "cell_type": "markdown",
   "metadata": {},
   "source": [
    "a) Repeat the classification exercises above for sklearn's kNN algorithm <b>KNeighborsClassifier()</b> using <b>k=1</b>. You might find the following arguments helpful when initializing the model: <b>algorithm='kd_tree', metric='minkowski', p=2</b>. These parameters will help speed up the algorithm significantly. However, the predictions will still be very slow. Produce the training time, test set prediction accuracy score and time taken to produce predictions. Format your answers."
   ]
  },
  {
   "cell_type": "code",
   "execution_count": 17,
   "metadata": {},
   "outputs": [
    {
     "name": "stdout",
     "output_type": "stream",
     "text": [
      "training time: 1.3996 seconds\n",
      "test time: 53.4674 seconds\n",
      "test accuracy: 0.9547\n"
     ]
    }
   ],
   "source": [
    "# (4 pts) Train kNN for k=1 and report time\n",
    "# (4 pts) Test kNN and report accuracy, time\n",
    "from sklearn.neighbors import KNeighborsClassifier\n",
    "\n",
    "#training kNN for k=1\n",
    "start = time.time() \n",
    "knn_model = KNeighborsClassifier(n_neighbors=1, algorithm='kd_tree', metric='minkowski', p=2)\n",
    "knn_model.fit(X_train, Y_train)\n",
    "end = time.time()  \n",
    "\n",
    "train_time =end - start \n",
    "\n",
    "# test the kNN\n",
    "start = time.time() \n",
    "test_predictions = knn_model.predict(X_test)\n",
    "end = time.time()  \n",
    "\n",
    "test_time= end- start\n",
    "\n",
    "\n",
    "print(\"training time: {:.4f} seconds\".format(train_time))\n",
    "print(\"test time: {:.4f} seconds\".format(test_time))\n",
    "\n",
    "accuracy = accuracy_score(Y_test, test_predictions)\n",
    "print(\"test accuracy: {:.4f}\".format(accuracy))\n",
    "\n"
   ]
  },
  {
   "cell_type": "markdown",
   "metadata": {},
   "source": [
    "b) For the kNN model trained above, what is the prediction accuracy on the <b>training set</b> $X_{train}, Y_{train}$ (this will take a while to compute)? Compare this to the the prediction accuracy on the training set for the <b>LogisticRegression model</b> (without polynomial features)? "
   ]
  },
  {
   "cell_type": "code",
   "execution_count": 19,
   "metadata": {},
   "outputs": [
    {
     "name": "stdout",
     "output_type": "stream",
     "text": [
      "kNN training accuracy: 1.0000\n",
      "logistic Regression training accuracy: 0.9297\n"
     ]
    }
   ],
   "source": [
    "# (2 pts) Report kNN training accuracy\n",
    "train_knn = knn_model.predict(X_train)\n",
    "knn_train_accuracy = accuracy_score(Y_train, train_knn)\n",
    "\n",
    "# (2 pts) Report Logistic Regression training accuracy \n",
    "train_logistic = logistic.predict(X_train)\n",
    "logistic_train_accuracy = accuracy_score(Y_train, train_logistic)\n",
    "\n",
    "print(\"kNN training accuracy: {:.4f}\".format(knn_train_accuracy))\n",
    "print(\"logistic Regression training accuracy: {:.4f}\".format(logistic_train_accuracy))"
   ]
  },
  {
   "cell_type": "markdown",
   "metadata": {},
   "source": [
    "c) (3 pts) Does anything surprise you about the Training set accuracies above? Why or why not?"
   ]
  },
  {
   "cell_type": "markdown",
   "metadata": {},
   "source": [
    "It makes sense that kNN overfits the given set since that's what it's designed to bound given the comparison of distances for the data. logistic regression does not have that capability to classify perfectly if data is not perfectly linearly separable "
   ]
  },
  {
   "cell_type": "markdown",
   "metadata": {},
   "source": [
    "d) (3 pts) Can you think why there is such a large difference between the kNN algorithms's training and prediction times?"
   ]
  },
  {
   "cell_type": "markdown",
   "metadata": {},
   "source": [
    "Prediction takes longer since it needs to determine the near distance from new samples and from those in training set. So this repetitous computation may take a long time for larger and larger sets, since it iteratively compares to the training set."
   ]
  },
  {
   "cell_type": "markdown",
   "metadata": {},
   "source": [
    "e) For now, we have only tried <b>k=1</b> (choose the closet neighbor) according to the Euclidean distance metric <b>p=2</b>. Repeat the exercise above for the following combinations of parameters: <b> k $\\in$ {1, 3}, p $\\in$ {2, 3} </b>. Note that p=2 is the 2-norm (Euclidean distance) and p=3 is the 3-norm. Train each of the models on the training set and evaluate the accuracy on the <b>validation set</b> $X_{val}, Y_{val}$. <b>NOTE: this might take a while!</b> Report the validation set accuracy for each model. Format your answers.\n",
    "\n",
    "<b>Note:</b> We recommend following the code skeleton below."
   ]
  },
  {
   "cell_type": "code",
   "execution_count": 21,
   "metadata": {},
   "outputs": [
    {
     "name": "stdout",
     "output_type": "stream",
     "text": [
      "validation accuracy for k=1, p=2: 0.9607\n",
      "validation accuracy for k=1, p=3: 0.9633\n",
      "validation accuracy for k=3, p=2: 0.9733\n",
      "validation accuracy for k=3, p=3: 0.9747\n",
      "\n",
      "best parameters are k=3, p=3\n",
      "\n",
      "best_train_time=1.3845 seconds\n"
     ]
    }
   ],
   "source": [
    "# Train kNN for all combinations of parameters above and report validation accuracy for each\n",
    "def runKNN(X_train,Y_train, X_val, Y_val, k, p):\n",
    "    \"\"\"k nearest neighbors running for p norm distance.\n",
    "       Returns knn model, knn_score for X_val and Y_val, and training time\"\"\"\n",
    "    \n",
    "    # (6pts) your code below\n",
    "    start_t = time.time()\n",
    "    knn = KNeighborsClassifier(n_neighbors =k, algorithm='kd_tree', metric='minkowski', p= p)\n",
    "    knn.fit(X_train, Y_train)\n",
    "    end_t = time.time()\n",
    "    \n",
    "    train_time = end_t  -start_t\n",
    "\n",
    "    val_score = knn.score(X_val, Y_val)\n",
    "    return (knn, val_score, train_time)\n",
    "\n",
    "best_score = 0.0\n",
    "best_k, best_p, best_knn = None, None, None\n",
    "best_train_time = np.inf\n",
    "\n",
    "for k in [1, 3]:\n",
    "    for p in [2, 3]:\n",
    "        (knn_model, val_score, train_time) = runKNN(X_train,Y_train, X_val, Y_val, k, p)\n",
    "        \n",
    "        if val_score > best_score:\n",
    "            best_score, best_k, best_p, best_knn, best_train_time = val_score, k, p, knn_model, train_time\n",
    "       \n",
    "        # (each (k,p) combination 1 pt) your code here\n",
    "        print(\"validation accuracy for k={}, p={}: {:.4f}\".format(k, p, val_score))\n",
    "\n",
    "\n",
    "print(\"\\nbest parameters are k={}, p={}\".format(best_k, best_p)) \n",
    "print(\"\\nbest_train_time={:.4f} seconds\".format(best_train_time))"
   ]
  },
  {
   "cell_type": "markdown",
   "metadata": {},
   "source": [
    "f) (1 pt) Based on the scores on the validation set, which parameters give the best model? Report the time taken to train the best model."
   ]
  },
  {
   "cell_type": "markdown",
   "metadata": {},
   "source": [
    "g) Using the best model, evaluate performance on the <b>test set</b>. Produce the prediction accuracy score and time taken to produce predictions. Please format your answers."
   ]
  },
  {
   "cell_type": "code",
   "execution_count": 22,
   "metadata": {},
   "outputs": [
    {
     "name": "stdout",
     "output_type": "stream",
     "text": [
      "kNN test accuracy: 0.9593\n",
      "Test time: 396.0084 seconds\n"
     ]
    }
   ],
   "source": [
    "# (4 pts) Test best kNN and report accuracy, time\n",
    "\n",
    "start = time.time()\n",
    "test_predictions = best_knn.predict(X_test)\n",
    "end = time.time()\n",
    "run_time = end-start\n",
    "\n",
    "accuracy = accuracy_score(Y_test, test_predictions)\n",
    "print(\"kNN test accuracy: {:.4f}\".format(accuracy))\n",
    "\n",
    "print(\"Test time: {:.4f} seconds\".format(run_time))"
   ]
  },
  {
   "cell_type": "markdown",
   "metadata": {},
   "source": [
    "# 4. Simple Neural Network"
   ]
  },
  {
   "cell_type": "markdown",
   "metadata": {},
   "source": [
    "We will now complete the tasks above using a simple Neural Network model.\n",
    "This portal comes with a tensorflow installation (see the imports at the very top of this file).\n",
    "Your task is the following:\n",
    "1. Adapt the tensorflow tutorial here (https://www.tensorflow.org/tutorials/quickstart/beginner) to train a simple Neural Network model\n",
    "2. You are required to use <b>ONLY</b> the $X_{train}, Y_{train}, X_{val}, Y_{val}, X_{test}, Y_{test}$ subsets provided earlier in this assignment. <b>DO NOT use any other subsets of the mnist dataset: you will have to adapt the tutorial to use the data provided in this assignment.</b>\n",
    "3. You will need to write a custom one-hot encoder for the labels\n",
    "   Hint: you might find the following libraries useful:\n",
    "\t\tfrom keras.utils import to_categorical\n",
    "4. Note that you will not need to use any validation in this part. Train using $X_{train}, Y_{train}$.\n",
    "5. Finally, produce the following: Time taken to train the model; Time taken to produce Test set predictions; Test set accuracy\n",
    "\n",
    "<b>Note:</b> We recommend following the code skeleton below."
   ]
  },
  {
   "cell_type": "code",
   "execution_count": 23,
   "metadata": {},
   "outputs": [
    {
     "name": "stdout",
     "output_type": "stream",
     "text": [
      "Epoch 1/20\n",
      "516/516 [==============================] - 1s 2ms/step - loss: 0.5057 - accuracy: 0.8557 - val_loss: 0.1969 - val_accuracy: 0.9500\n",
      "Epoch 2/20\n",
      "516/516 [==============================] - 1s 1ms/step - loss: 0.2471 - accuracy: 0.9304 - val_loss: 0.1390 - val_accuracy: 0.9627\n",
      "Epoch 3/20\n",
      "516/516 [==============================] - 1s 1ms/step - loss: 0.1867 - accuracy: 0.9473 - val_loss: 0.1208 - val_accuracy: 0.9640\n",
      "Epoch 4/20\n",
      "516/516 [==============================] - 1s 1ms/step - loss: 0.1591 - accuracy: 0.9528 - val_loss: 0.1097 - val_accuracy: 0.9667\n",
      "Epoch 5/20\n",
      "516/516 [==============================] - 1s 1ms/step - loss: 0.1285 - accuracy: 0.9621 - val_loss: 0.0945 - val_accuracy: 0.9713\n",
      "Epoch 6/20\n",
      "516/516 [==============================] - 1s 1ms/step - loss: 0.1116 - accuracy: 0.9664 - val_loss: 0.0892 - val_accuracy: 0.9700\n",
      "Epoch 7/20\n",
      "516/516 [==============================] - 1s 1ms/step - loss: 0.0905 - accuracy: 0.9718 - val_loss: 0.0942 - val_accuracy: 0.9707\n",
      "Epoch 8/20\n",
      "516/516 [==============================] - 1s 1ms/step - loss: 0.0787 - accuracy: 0.9765 - val_loss: 0.0787 - val_accuracy: 0.9747\n",
      "Epoch 9/20\n",
      "516/516 [==============================] - 1s 1ms/step - loss: 0.0723 - accuracy: 0.9765 - val_loss: 0.0786 - val_accuracy: 0.9753\n",
      "Epoch 10/20\n",
      "516/516 [==============================] - 1s 1ms/step - loss: 0.0629 - accuracy: 0.9804 - val_loss: 0.0761 - val_accuracy: 0.9767\n",
      "Epoch 11/20\n",
      "516/516 [==============================] - 1s 1ms/step - loss: 0.0537 - accuracy: 0.9833 - val_loss: 0.0772 - val_accuracy: 0.9747\n",
      "Epoch 12/20\n",
      "516/516 [==============================] - 1s 1ms/step - loss: 0.0460 - accuracy: 0.9863 - val_loss: 0.0774 - val_accuracy: 0.9760\n",
      "Epoch 13/20\n",
      "516/516 [==============================] - 1s 1ms/step - loss: 0.0427 - accuracy: 0.9872 - val_loss: 0.0731 - val_accuracy: 0.9760\n",
      "Epoch 14/20\n",
      "516/516 [==============================] - 1s 1ms/step - loss: 0.0392 - accuracy: 0.9879 - val_loss: 0.0757 - val_accuracy: 0.9747\n",
      "Epoch 15/20\n",
      "516/516 [==============================] - 1s 1ms/step - loss: 0.0350 - accuracy: 0.9895 - val_loss: 0.0768 - val_accuracy: 0.9760\n",
      "Epoch 16/20\n",
      "516/516 [==============================] - 1s 1ms/step - loss: 0.0314 - accuracy: 0.9903 - val_loss: 0.0683 - val_accuracy: 0.9760\n",
      "Epoch 17/20\n",
      "516/516 [==============================] - 1s 1ms/step - loss: 0.0302 - accuracy: 0.9910 - val_loss: 0.0704 - val_accuracy: 0.9773\n",
      "Epoch 18/20\n",
      "516/516 [==============================] - 1s 1ms/step - loss: 0.0272 - accuracy: 0.9911 - val_loss: 0.0664 - val_accuracy: 0.9780\n",
      "Epoch 19/20\n",
      "516/516 [==============================] - 1s 1ms/step - loss: 0.0259 - accuracy: 0.9918 - val_loss: 0.0779 - val_accuracy: 0.9767\n",
      "Epoch 20/20\n",
      "516/516 [==============================] - 1s 1ms/step - loss: 0.0255 - accuracy: 0.9919 - val_loss: 0.0731 - val_accuracy: 0.9767\n",
      "94/94 [==============================] - 0s 708us/step - loss: 0.1224 - accuracy: 0.9707\n",
      "training time: 14.0233 seconds\n",
      "training accuracy: 0.9919\n",
      "\n",
      "time to produce test predictions: 0.1163 seconds\n",
      "Test accuracy: 0.9707\n"
     ]
    }
   ],
   "source": [
    "# Implement simpleNN\n",
    "# Train simpleNN and report time\n",
    "# Test simpleNN and report accuracy, time\n",
    "\n",
    "def simple_nn(X, Y, X_val, Y_val, X_test, Y_test):\n",
    "    \"\"\"Input: train: (X_train, Y_train), validation:(X_val, Y_va), test:(X_test, Y_test).\n",
    "       Trains simple neural network with activation relu for hidden layer and soft max activation for output layer for 20 epochs.\n",
    "       Returns the process, train and test accuracies and train and test runtimes \"\"\"\n",
    "    #match dimensions in \n",
    "    X = X.reshape(-1, 28, 28)\n",
    "    X_val = X_val.reshape(-1, 28, 28)\n",
    "    X_test = X_test.reshape(-1, 28, 28)\n",
    "                            \n",
    "    # (6 pts) your model here\n",
    "    model = tf.keras.models.Sequential([\n",
    "        tf.keras.layers.Flatten(input_shape=(28, 28)),\n",
    "        tf.keras.layers.Dense(128, activation='relu'),\n",
    "        tf.keras.layers.Dropout(0.2),\n",
    "        tf.keras.layers.Dense(10, activation='softmax')\n",
    "    ])\n",
    "    \n",
    "    # (1 pt) one-hot encode the labels\n",
    "    Y_encode = tf.keras.utils.to_categorical(Y, num_classes=10)\n",
    "    Y_val_encode = tf.keras.utils.to_categorical(Y_val, num_classes=10)  \n",
    "    Y_test_encode = tf.keras.utils.to_categorical(Y_test, num_classes=10)\n",
    "    \n",
    "    # (2 pts) compile model\n",
    "    model.compile(optimizer='adam',\n",
    "                  loss='categorical_crossentropy',\n",
    "                  metrics=['accuracy'])\n",
    "    \n",
    "    # (4 pts) train model for 20 epochs and time it\n",
    "    # make sure to achieve 99% training accuracy\n",
    "    start_train = time.time()\n",
    "    process = model.fit(X, Y_encode, epochs=20, validation_data = (X_val, Y_val_encode))\n",
    "    end_train = time.time()\n",
    "   \n",
    "    # (4 pts) evaluate model and time it\n",
    "    start_test = time.time()\n",
    "    loss, test_accuracy = model.evaluate(X_test, Y_test_encode)\n",
    "    end_test = time.time()\n",
    "\n",
    "    train_accuracy = process.history['accuracy'][-1]\n",
    "    \n",
    "    train_runtime = end_train- start_train\n",
    "    test_runtime = end_test- start_test\n",
    "    return process, train_accuracy, test_accuracy, train_runtime, test_runtime\n",
    "    \n",
    "simple_process, train_accuracy, test_accuracy, train_runtime, test_runtime = simple_nn(X_train, Y_train, X_val, Y_val, X_test, Y_test)\n",
    "\n",
    "print(\"training time: {:.4f} seconds\".format(train_runtime))\n",
    "print(\"training accuracy: {:.4f}\".format(train_accuracy))\n",
    "\n",
    "print(\"\\ntime to produce test predictions: {:.4f} seconds\".format(test_runtime))\n",
    "print(\"Test accuracy: {:.4f}\".format(test_accuracy))"
   ]
  },
  {
   "cell_type": "markdown",
   "metadata": {},
   "source": [
    "(2 pts) Plot the training and validation accuracy curves in the same plot."
   ]
  },
  {
   "cell_type": "code",
   "execution_count": 27,
   "metadata": {},
   "outputs": [
    {
     "data": {
      "image/png": "[encoded data removed]",
      "text/plain": [
       "<Figure size 640x480 with 1 Axes>"
      ]
     },
     "metadata": {},
     "output_type": "display_data"
    }
   ],
   "source": [
    "# hint: use simple_process\n",
    "train_accuracy = simple_process.history['accuracy']\n",
    "val_accuracy = simple_process.history['val_accuracy']\n",
    "epochs = range(1, len(train_accuracy) + 1)\n",
    "\n",
    "plt.plot(epochs, train_accuracy, 'r', label='Train Accuracy')\n",
    "plt.plot(epochs, val_accuracy, 'g', label='Validation Accuracy')\n",
    "plt.title('Train versus Validation accuracy')\n",
    "plt.xlabel('Epochs')\n",
    "plt.ylabel('Accuracy')\n",
    "plt.legend()\n",
    "\n",
    "plt.show()"
   ]
  },
  {
   "cell_type": "markdown",
   "metadata": {},
   "source": [
    "# 5. Convolutional Neural Network"
   ]
  },
  {
   "cell_type": "markdown",
   "metadata": {},
   "source": [
    "We will now complete the tasks above using a more complicated model: Convolutional Neural Network.\n",
    "\n",
    "Your task is the following:\n",
    "1. Adapt the CNN tensorflow tutorial here (https://machinelearningmastery.com/how-to-develop-a-convolutional-neural-network-from-scratch-for-mnist-handwritten-digit-classification/) to train a Convolutional Neural Network model\n",
    "2. You are required to use <b>ONLY</b> the $X_{train}, Y_{train}, X_{val}, Y_{val}, X_{test}, Y_{test}$ subsets provided earlier in this assignment. <b>DO NOT use any other subsets of the mnist dataset: you will have to adapt the tutorial to use the data provided in this assignment.</b>\n",
    "3. Use the same one-hot encoder as the previous part\n",
    "4. Note that you will not need to use any validation in this part. Train using $X_{train}, Y_{train}$.\n",
    "5. Finally, produce the following:\n",
    "\tTime taken to train the model; Time taken to produce Test set predictions; Test set accuracy\n",
    "\n",
    "<b>Note:</b> We recommend following the code skeleton below."
   ]
  },
  {
   "cell_type": "code",
   "execution_count": 33,
   "metadata": {},
   "outputs": [
    {
     "name": "stdout",
     "output_type": "stream",
     "text": [
      "Epoch 1/20\n",
      "258/258 [==============================] - 3s 10ms/step - loss: 0.3945 - accuracy: 0.8805 - val_loss: 0.1517 - val_accuracy: 0.9607\n",
      "Epoch 2/20\n",
      "258/258 [==============================] - 2s 9ms/step - loss: 0.1718 - accuracy: 0.9505 - val_loss: 0.0936 - val_accuracy: 0.9760\n",
      "Epoch 3/20\n",
      "258/258 [==============================] - 2s 9ms/step - loss: 0.1144 - accuracy: 0.9672 - val_loss: 0.0775 - val_accuracy: 0.9807\n",
      "Epoch 4/20\n",
      "258/258 [==============================] - 2s 9ms/step - loss: 0.0852 - accuracy: 0.9766 - val_loss: 0.0653 - val_accuracy: 0.9793\n",
      "Epoch 5/20\n",
      "258/258 [==============================] - 2s 9ms/step - loss: 0.0643 - accuracy: 0.9815 - val_loss: 0.0632 - val_accuracy: 0.9840\n",
      "Epoch 6/20\n",
      "258/258 [==============================] - 2s 9ms/step - loss: 0.0496 - accuracy: 0.9866 - val_loss: 0.0482 - val_accuracy: 0.9860\n",
      "Epoch 7/20\n",
      "258/258 [==============================] - 2s 9ms/step - loss: 0.0368 - accuracy: 0.9904 - val_loss: 0.0632 - val_accuracy: 0.9767\n",
      "Epoch 8/20\n",
      "258/258 [==============================] - 2s 9ms/step - loss: 0.0299 - accuracy: 0.9924 - val_loss: 0.0486 - val_accuracy: 0.9833\n",
      "Epoch 9/20\n",
      "258/258 [==============================] - 2s 9ms/step - loss: 0.0233 - accuracy: 0.9952 - val_loss: 0.0402 - val_accuracy: 0.9867\n",
      "Epoch 10/20\n",
      "258/258 [==============================] - 2s 9ms/step - loss: 0.0171 - accuracy: 0.9970 - val_loss: 0.0443 - val_accuracy: 0.9867\n",
      "Epoch 11/20\n",
      "258/258 [==============================] - 2s 9ms/step - loss: 0.0142 - accuracy: 0.9973 - val_loss: 0.0415 - val_accuracy: 0.9887\n",
      "Epoch 12/20\n",
      "258/258 [==============================] - 2s 9ms/step - loss: 0.0108 - accuracy: 0.9984 - val_loss: 0.0392 - val_accuracy: 0.9880\n",
      "Epoch 13/20\n",
      "258/258 [==============================] - 2s 9ms/step - loss: 0.0078 - accuracy: 0.9994 - val_loss: 0.0487 - val_accuracy: 0.9887\n",
      "Epoch 14/20\n",
      "258/258 [==============================] - 2s 9ms/step - loss: 0.0063 - accuracy: 0.9999 - val_loss: 0.0397 - val_accuracy: 0.9887\n",
      "Epoch 15/20\n",
      "258/258 [==============================] - 3s 10ms/step - loss: 0.0051 - accuracy: 1.0000 - val_loss: 0.0393 - val_accuracy: 0.9907\n",
      "Epoch 16/20\n",
      "258/258 [==============================] - 2s 9ms/step - loss: 0.0044 - accuracy: 0.9999 - val_loss: 0.0414 - val_accuracy: 0.9880\n",
      "Epoch 17/20\n",
      "258/258 [==============================] - 2s 9ms/step - loss: 0.0039 - accuracy: 0.9999 - val_loss: 0.0394 - val_accuracy: 0.9907\n",
      "Epoch 18/20\n",
      "258/258 [==============================] - 2s 9ms/step - loss: 0.0034 - accuracy: 1.0000 - val_loss: 0.0405 - val_accuracy: 0.9887\n",
      "Epoch 19/20\n",
      "258/258 [==============================] - 2s 9ms/step - loss: 0.0029 - accuracy: 1.0000 - val_loss: 0.0390 - val_accuracy: 0.9893\n",
      "Epoch 20/20\n",
      "258/258 [==============================] - 2s 9ms/step - loss: 0.0025 - accuracy: 1.0000 - val_loss: 0.0395 - val_accuracy: 0.9887\n",
      "94/94 [==============================] - 0s 2ms/step - loss: 0.0708 - accuracy: 0.9790\n",
      "Train time: 46.7744 seconds\n",
      "Train accuracy: 1.0000\n",
      "\n",
      "Test Time: 0.2279 seconds\n",
      "Test accuracy: 0.9790\n"
     ]
    }
   ],
   "source": [
    "# Test CNN and report accuracy, time\n",
    "\n",
    "from keras.utils import to_categorical\n",
    "from keras import layers\n",
    "from keras.optimizers import SGD\n",
    "\n",
    "def conv_nn(X, Y, X_val, Y_val, X_test, Y_test):\n",
    "    # your code below\n",
    "    # (1 pt) reshape dataset to have a single channel (see tutorial)\n",
    "    X = X.reshape((X.shape[0], 28, 28, 1))\n",
    "    X_val = X_val.reshape((X_val.shape[0], 28, 28, 1))\n",
    "    X_test = X_test.reshape((X_test.shape[0], 28, 28, 1))\n",
    "    \n",
    "    # (1 pt) one-hot encode the labels\n",
    "    Y_encode = to_categorical(Y)\n",
    "    Y_val_encode = to_categorical(Y_val)  \n",
    "    Y_test_encode = to_categorical(Y_test)\n",
    "\n",
    "    # Implement CNN\n",
    "    \n",
    "         # (8 pts) your model here\n",
    "    model = tf.keras.models.Sequential([\n",
    "        layers.Conv2D(32, (3, 3), activation='relu', kernel_initializer='he_uniform', input_shape=(28, 28, 1)),\n",
    "        layers.MaxPooling2D((2, 2)),\n",
    "        layers.Flatten(),\n",
    "        layers.Dense(100, activation='relu', kernel_initializer='he_uniform'),\n",
    "        layers.Dense(10, activation='softmax')\n",
    "    ])\n",
    "    \n",
    "    # (2 pts) compile model\n",
    "    optimal = SGD(learning_rate=0.01, momentum=0.9)\n",
    "    model.compile(optimizer= optimal, \n",
    "                  loss='categorical_crossentropy', \n",
    "                  metrics=['accuracy'])\n",
    "\n",
    "   # Train CNN and report time\n",
    "    \n",
    "    # (4 pts) train model for 20 epochs and time it\n",
    "    # make sure to achieve 100% training accuracy\n",
    "    start_train = time.time()\n",
    "    process = model.fit(X, Y_encode, epochs=20, batch_size=64, validation_data=(X_val, Y_val_encode))\n",
    "    end_train = time.time()\n",
    "\n",
    "    \n",
    "    # Test CNN and report accuracy, time\n",
    "    \n",
    "    # (4 pts) evaluate model and time it\n",
    "    start_test = time.time()\n",
    "    loss, test_accuracy = model.evaluate(X_test, Y_test_encode)\n",
    "    end_test = time.time()\n",
    "\n",
    "    \n",
    "    train_runtime= end_train - start_train\n",
    "    train_accuracy = process.history['accuracy'][-1]\n",
    "    test_runtime = end_test - start_test\n",
    "    return process, train_accuracy, test_accuracy, train_runtime, test_runtime\n",
    "    \n",
    "\n",
    "conv_process, train_accuracy, test_accuracy, train_runtime, test_runtime = conv_nn(X_train, Y_train, X_val, Y_val, X_test, Y_test)\n",
    "print(\"Train time: {:.4f} seconds\".format(train_runtime))\n",
    "print(\"Train accuracy: {:.4f}\".format(train_accuracy))\n",
    "\n",
    "print(\"\\nTest Time: {:.4f} seconds\".format(test_runtime))\n",
    "print(\"Test accuracy: {:.4f}\".format(test_accuracy))\n"
   ]
  },
  {
   "cell_type": "markdown",
   "metadata": {},
   "source": [
    "(2 pts) Plot the training and validation accuracy curves in the same plot."
   ]
  },
  {
   "cell_type": "code",
   "execution_count": 34,
   "metadata": {},
   "outputs": [
    {
     "data": {
      "image/png": "[encoded data removed]",
      "text/plain": [
       "<Figure size 640x480 with 1 Axes>"
      ]
     },
     "metadata": {},
     "output_type": "display_data"
    }
   ],
   "source": [
    "# hint: use conv_process\n",
    "training_accuracy = conv_process.history['accuracy']\n",
    "validation_accuracy = conv_process.history['val_accuracy']\n",
    "\n",
    "plt.plot(training_accuracy, 'r',label='Training accuracy')\n",
    "plt.plot(validation_accuracy,'g', label='Validation accuracy')\n",
    "plt.xlabel('Epoch')\n",
    "plt.ylabel('Accuracy')\n",
    "plt.title('Training versus Validation accuracy Curves')\n",
    "plt.legend()\n",
    "\n",
    "plt.show()"
   ]
  },
  {
   "cell_type": "markdown",
   "metadata": {},
   "source": [
    "(3 pts) What do you observe in the plots showing training v.s. validation accuracies? Why?"
   ]
  },
  {
   "cell_type": "markdown",
   "metadata": {},
   "source": [
    "Both Training and validation accuracies generally increase with upwards trends. The training accuracies have a steeper increase after the first few epochs until they ultimately converge to some accuracy (99% for the simple NN and 100% for convolutional NN).\n",
    "And the Green validation curves confirms how well the NN fits under validation data. The model has already learned from the training data, so the validation process starts off its classificsation at a higher value with slight increases in accuracy througout the epochs\n",
    "\n",
    "Neural networks here can fit well the classificaiton becuase of the learning done with training data can allow the model to generalize well to unseen observations.\n"
   ]
  },
  {
   "cell_type": "markdown",
   "metadata": {},
   "source": [
    "(6 pts) Comment on the features of the various algorithms you have used in this assignment and the tradeoffs between computational efficiency and accuracy."
   ]
  },
  {
   "cell_type": "markdown",
   "metadata": {},
   "source": [
    "K nearest neighbors handles mutli-classification problem very accurately, but it's computationally intensive and could suffer from the curse of dimensionality with broader feature spaces and larger data sets. It's unique feature of using distance and norm metrics make it so.\n",
    "And the tradeoff here is the accuracy from larger choices of k neighbors and p norms, at the cost of longer and longer runtimes.\n",
    "\n",
    "Neural Networks accurately classify with the help of features like dropout regulatization, which handles overfitting by deactivating training neurons, so more generazable patterns from features can better help achieve non-linear classification.\n",
    "And the tradeoff here is requiring a comprehensive amount of data for training in order to achieve better results at validation. \n",
    "\n",
    "Convolutional neural networks are capable of handling image data by taking advantage of the convolution layers that give a clearer weighting to each pixel with repect to its neighbors. So in that way it can find better spatial relationships to the data. Stochastic gradient descent is also the adept optimizer feature we can use to fit better with the training. \n",
    "And the tradeoff here is a more a complex design that requires more parameter tuning with batch sizes for a more optimal classification analysis that fits well to the data.\n",
    "\n",
    "Logistic regression assigns probabilites of class membership as a transformation of the features, and it has a sort of implicit regularization.\n",
    "So it may or may not adeptly classifly non-simple classification problems?\n",
    "And the tradeoff here is a simpler design with a flexible fit to future unseen data, but may not yield highly predictive models like Neural Networks could.\n",
    "\n",
    "Polynomial regression allows the introduction of polynomial features for non-linear decision boundaries.\n",
    "And the tradoff is more flexible fit in various data patterns at the cost of relatively longer computation to handle the feature space, and not as accurate for sizing to more complex classification patterns."
   ]
  },
  {
   "cell_type": "code",
   "execution_count": null,
   "metadata": {},
   "outputs": [],
   "source": []
  }
 ],
 "metadata": {
  "kernelspec": {
   "display_name": "Python 3 (ipykernel)",
   "language": "python",
   "name": "python3"
  },
  "language_info": {
   "codemirror_mode": {
    "name": "ipython",
    "version": 3
   },
   "file_extension": ".py",
   "mimetype": "text/x-python",
   "name": "python",
   "nbconvert_exporter": "python",
   "pygments_lexer": "ipython3",
   "version": "3.9.18"
  }
 },
 "nbformat": 4,
 "nbformat_minor": 4
}
